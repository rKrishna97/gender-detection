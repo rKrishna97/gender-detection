{
  "nbformat": 4,
  "nbformat_minor": 0,
  "metadata": {
    "colab": {
      "name": "Gender_Detection.ipynb",
      "provenance": [],
      "collapsed_sections": []
    },
    "kernelspec": {
      "name": "python3",
      "display_name": "Python 3"
    },
    "accelerator": "GPU"
  },
  "cells": [
    {
      "cell_type": "code",
      "metadata": {
        "id": "d0hx7mI4eeAp"
      },
      "source": [
        "from tensorflow.keras.preprocessing.image import ImageDataGenerator\r\n",
        "from tensorflow.keras.optimizers import Adam\r\n",
        "from tensorflow.keras.preprocessing.image import img_to_array\r\n",
        "from tensorflow.keras.utils import to_categorical, plot_model\r\n",
        "from tensorflow.keras.models import Sequential\r\n",
        "from tensorflow.keras.layers import BatchNormalization, Conv2D, MaxPooling2D, Activation, Flatten, Dropout, Dense\r\n",
        "from tensorflow.keras import backend as K\r\n",
        "from sklearn.model_selection import train_test_split\r\n",
        "import matplotlib.pyplot as plt\r\n",
        "import numpy as np\r\n",
        "import random\r\n",
        "import cv2\r\n",
        "import os\r\n",
        "import glob"
      ],
      "execution_count": 9,
      "outputs": []
    },
    {
      "cell_type": "code",
      "metadata": {
        "id": "B1isDPgVey6U"
      },
      "source": [
        "# initial parameter\r\n",
        "epochs = 100\r\n",
        "lr = 1e-3\r\n",
        "batch_size = 64\r\n",
        "img_dims = (96,96,3)"
      ],
      "execution_count": 10,
      "outputs": []
    },
    {
      "cell_type": "code",
      "metadata": {
        "id": "gdrpPjj1fCN5"
      },
      "source": [
        "data = []\r\n",
        "labels = []"
      ],
      "execution_count": 11,
      "outputs": []
    },
    {
      "cell_type": "code",
      "metadata": {
        "id": "AIkuT6BLf9n4"
      },
      "source": [
        "image_files = [f for f in glob.glob(\"/content/Images\"+\"/**/*\", recursive=True) if not os.path.isdir(f)]\r\n",
        "random.shuffle(image_files)"
      ],
      "execution_count": 12,
      "outputs": []
    },
    {
      "cell_type": "code",
      "metadata": {
        "id": "_qk9Kfujgu0L"
      },
      "source": [
        "for img in image_files:\r\n",
        "\r\n",
        "    image = cv2.imread(img)\r\n",
        "\r\n",
        "    image = cv2.resize(image, (img_dims[0], img_dims[1]))\r\n",
        "    image = img_to_array(image)\r\n",
        "    data.append(image)\r\n",
        "\r\n",
        "    label = img.split(os.path.sep)[-2]\r\n",
        "    if label == \"woman\":\r\n",
        "        label = 1\r\n",
        "    else:\r\n",
        "        label = 0\r\n",
        "    \r\n",
        "    labels.append([label])"
      ],
      "execution_count": 13,
      "outputs": []
    },
    {
      "cell_type": "code",
      "metadata": {
        "id": "hQ2gOX8khVHo"
      },
      "source": [
        "data = np.array(data, dtype='float') / 255.0\r\n",
        "labels = np.array(labels)"
      ],
      "execution_count": 14,
      "outputs": []
    },
    {
      "cell_type": "code",
      "metadata": {
        "id": "0cMeZeeOhc_Y"
      },
      "source": [
        "(trainX, testX, trainY, testY) = train_test_split(data, labels, test_size=0.2, random_state=42)"
      ],
      "execution_count": 15,
      "outputs": []
    },
    {
      "cell_type": "code",
      "metadata": {
        "colab": {
          "base_uri": "https://localhost:8080/"
        },
        "id": "KMZAnQCfh2X4",
        "outputId": "75f190a3-5b83-41be-f1af-79040f0c5a08"
      },
      "source": [
        "trainY"
      ],
      "execution_count": 16,
      "outputs": [
        {
          "output_type": "execute_result",
          "data": {
            "text/plain": [
              "array([[1],\n",
              "       [0],\n",
              "       [0],\n",
              "       ...,\n",
              "       [1],\n",
              "       [0],\n",
              "       [0]])"
            ]
          },
          "metadata": {
            "tags": []
          },
          "execution_count": 16
        }
      ]
    },
    {
      "cell_type": "code",
      "metadata": {
        "id": "l7-Tkp1ciOL1"
      },
      "source": [
        "trainY = to_categorical(trainY, num_classes=2)\r\n",
        "testY = to_categorical(testY, num_classes=2)"
      ],
      "execution_count": 17,
      "outputs": []
    },
    {
      "cell_type": "code",
      "metadata": {
        "colab": {
          "base_uri": "https://localhost:8080/"
        },
        "id": "qtgjuidgihhn",
        "outputId": "4cfdb1e4-836c-4dbc-e7af-97d4436c3bd2"
      },
      "source": [
        "trainY"
      ],
      "execution_count": 18,
      "outputs": [
        {
          "output_type": "execute_result",
          "data": {
            "text/plain": [
              "array([[0., 1.],\n",
              "       [1., 0.],\n",
              "       [1., 0.],\n",
              "       ...,\n",
              "       [0., 1.],\n",
              "       [1., 0.],\n",
              "       [1., 0.]], dtype=float32)"
            ]
          },
          "metadata": {
            "tags": []
          },
          "execution_count": 18
        }
      ]
    },
    {
      "cell_type": "code",
      "metadata": {
        "id": "ZHuen0nmiiQ3"
      },
      "source": [
        "aug = ImageDataGenerator(rotation_range=25, width_shift_range=0.1,\r\n",
        "                         height_shift_range=0.1, shear_range=0.2, zoom_range=0.2,\r\n",
        "                         horizontal_flip=True, fill_mode=\"nearest\")"
      ],
      "execution_count": 19,
      "outputs": []
    },
    {
      "cell_type": "code",
      "metadata": {
        "id": "TGs1wIpaiwMA"
      },
      "source": [
        "# define model\r\n",
        "def build(width, height, depth, classes):\r\n",
        "    model = Sequential()\r\n",
        "    inputShape = (height, width, depth)\r\n",
        "    chanDim = -1\r\n",
        "\r\n",
        "    if K.image_data_format() == \"channels_first\": #Returns a string, either 'channels_first' or 'channels_last'\r\n",
        "        inputShape = (depth, height, width)\r\n",
        "        chanDim = 1\r\n",
        "    \r\n",
        "    # The axis that should be normalized, after a Conv2D layer with data_format=\"channels_first\", \r\n",
        "    # set axis=1 in BatchNormalization.\r\n",
        "\r\n",
        "    model.add(Conv2D(32, (3,3), padding=\"same\", input_shape=inputShape))\r\n",
        "    model.add(Activation(\"relu\"))\r\n",
        "    model.add(BatchNormalization(axis=chanDim))\r\n",
        "    model.add(MaxPooling2D(pool_size=(3,3)))\r\n",
        "    model.add(Dropout(0.25))\r\n",
        "\r\n",
        "    model.add(Conv2D(64, (3,3), padding=\"same\"))\r\n",
        "    model.add(Activation(\"relu\"))\r\n",
        "    model.add(BatchNormalization(axis=chanDim))\r\n",
        "\r\n",
        "    model.add(Conv2D(64, (3,3), padding=\"same\"))\r\n",
        "    model.add(Activation(\"relu\"))\r\n",
        "    model.add(BatchNormalization(axis=chanDim))\r\n",
        "    model.add(MaxPooling2D(pool_size=(2,2)))\r\n",
        "    model.add(Dropout(0.25))\r\n",
        "\r\n",
        "    model.add(Conv2D(128, (3,3), padding=\"same\"))\r\n",
        "    model.add(Activation(\"relu\"))\r\n",
        "    model.add(BatchNormalization(axis=chanDim))\r\n",
        "\r\n",
        "    model.add(Conv2D(128, (3,3), padding=\"same\"))\r\n",
        "    model.add(Activation(\"relu\"))\r\n",
        "    model.add(BatchNormalization(axis=chanDim))\r\n",
        "    model.add(MaxPooling2D(pool_size=(2,2)))\r\n",
        "    model.add(Dropout(0.25))\r\n",
        "\r\n",
        "    model.add(Flatten())\r\n",
        "    model.add(Dense(1024))\r\n",
        "    model.add(Activation(\"relu\"))\r\n",
        "    model.add(BatchNormalization())\r\n",
        "    model.add(Dropout(0.5))\r\n",
        "\r\n",
        "    model.add(Dense(classes))\r\n",
        "    model.add(Activation(\"sigmoid\"))\r\n",
        "\r\n",
        "    return model"
      ],
      "execution_count": 20,
      "outputs": []
    },
    {
      "cell_type": "code",
      "metadata": {
        "id": "3rAJcjDZkbX_"
      },
      "source": [
        "# build model\r\n",
        "model = build(width=img_dims[0], height=img_dims[1], depth=img_dims[2], classes=2)"
      ],
      "execution_count": 21,
      "outputs": []
    },
    {
      "cell_type": "code",
      "metadata": {
        "id": "F-SrrbM-ktBv"
      },
      "source": [
        "# compile the model\r\n",
        "opt = Adam(lr=lr, decay=lr/epochs)\r\n",
        "model.compile(loss='binary_crossentropy', optimizer=opt, metrics=['accuracy'])"
      ],
      "execution_count": 22,
      "outputs": []
    },
    {
      "cell_type": "code",
      "metadata": {
        "colab": {
          "base_uri": "https://localhost:8080/"
        },
        "id": "8qyQd0HelCGX",
        "outputId": "289301fb-974f-4a53-f0af-cc5537b77ca9"
      },
      "source": [
        "# train the model\r\n",
        "H = model.fit_generator(aug.flow(trainX, trainY, batch_size=batch_size),\r\n",
        "                        validation_data=(testX, testY),\r\n",
        "                        steps_per_epoch=len(trainX) // batch_size,\r\n",
        "                        epochs=epochs, verbose=1)"
      ],
      "execution_count": 23,
      "outputs": [
        {
          "output_type": "stream",
          "text": [
            "/usr/local/lib/python3.7/dist-packages/tensorflow/python/keras/engine/training.py:1844: UserWarning: `Model.fit_generator` is deprecated and will be removed in a future version. Please use `Model.fit`, which supports generators.\n",
            "  warnings.warn('`Model.fit_generator` is deprecated and '\n"
          ],
          "name": "stderr"
        },
        {
          "output_type": "stream",
          "text": [
            "Epoch 1/100\n",
            "28/28 [==============================] - 38s 167ms/step - loss: 0.8305 - accuracy: 0.6782 - val_loss: 0.6642 - val_accuracy: 0.5476\n",
            "Epoch 2/100\n",
            "28/28 [==============================] - 4s 137ms/step - loss: 0.5100 - accuracy: 0.8064 - val_loss: 0.8149 - val_accuracy: 0.4740\n",
            "Epoch 3/100\n",
            "28/28 [==============================] - 4s 139ms/step - loss: 0.4356 - accuracy: 0.8286 - val_loss: 0.7375 - val_accuracy: 0.5303\n",
            "Epoch 4/100\n",
            "28/28 [==============================] - 4s 139ms/step - loss: 0.3779 - accuracy: 0.8451 - val_loss: 1.1895 - val_accuracy: 0.5260\n",
            "Epoch 5/100\n",
            "28/28 [==============================] - 4s 139ms/step - loss: 0.3720 - accuracy: 0.8635 - val_loss: 0.9596 - val_accuracy: 0.5260\n",
            "Epoch 6/100\n",
            "28/28 [==============================] - 4s 138ms/step - loss: 0.3145 - accuracy: 0.8836 - val_loss: 0.9214 - val_accuracy: 0.5260\n",
            "Epoch 7/100\n",
            "28/28 [==============================] - 4s 139ms/step - loss: 0.3420 - accuracy: 0.8665 - val_loss: 1.0195 - val_accuracy: 0.5260\n",
            "Epoch 8/100\n",
            "28/28 [==============================] - 4s 142ms/step - loss: 0.2819 - accuracy: 0.8857 - val_loss: 0.5383 - val_accuracy: 0.7186\n",
            "Epoch 9/100\n",
            "28/28 [==============================] - 4s 141ms/step - loss: 0.2346 - accuracy: 0.8993 - val_loss: 0.6277 - val_accuracy: 0.6991\n",
            "Epoch 10/100\n",
            "28/28 [==============================] - 4s 147ms/step - loss: 0.2227 - accuracy: 0.9151 - val_loss: 0.4760 - val_accuracy: 0.8225\n",
            "Epoch 11/100\n",
            "28/28 [==============================] - 4s 140ms/step - loss: 0.2211 - accuracy: 0.9139 - val_loss: 1.0460 - val_accuracy: 0.5606\n",
            "Epoch 12/100\n",
            "28/28 [==============================] - 4s 139ms/step - loss: 0.1664 - accuracy: 0.9408 - val_loss: 0.5567 - val_accuracy: 0.7684\n",
            "Epoch 13/100\n",
            "28/28 [==============================] - 4s 138ms/step - loss: 0.1890 - accuracy: 0.9160 - val_loss: 1.6781 - val_accuracy: 0.5390\n",
            "Epoch 14/100\n",
            "28/28 [==============================] - 4s 139ms/step - loss: 0.1848 - accuracy: 0.9324 - val_loss: 0.4805 - val_accuracy: 0.7857\n",
            "Epoch 15/100\n",
            "28/28 [==============================] - 4s 142ms/step - loss: 0.1649 - accuracy: 0.9360 - val_loss: 0.6632 - val_accuracy: 0.7446\n",
            "Epoch 16/100\n",
            "28/28 [==============================] - 4s 140ms/step - loss: 0.1489 - accuracy: 0.9379 - val_loss: 0.4553 - val_accuracy: 0.8268\n",
            "Epoch 17/100\n",
            "28/28 [==============================] - 4s 141ms/step - loss: 0.1569 - accuracy: 0.9350 - val_loss: 0.3181 - val_accuracy: 0.8810\n",
            "Epoch 18/100\n",
            "28/28 [==============================] - 4s 143ms/step - loss: 0.1318 - accuracy: 0.9525 - val_loss: 0.4265 - val_accuracy: 0.8636\n",
            "Epoch 19/100\n",
            "28/28 [==============================] - 4s 142ms/step - loss: 0.1749 - accuracy: 0.9338 - val_loss: 0.8097 - val_accuracy: 0.7641\n",
            "Epoch 20/100\n",
            "28/28 [==============================] - 4s 140ms/step - loss: 0.1430 - accuracy: 0.9501 - val_loss: 0.1333 - val_accuracy: 0.9524\n",
            "Epoch 21/100\n",
            "28/28 [==============================] - 4s 143ms/step - loss: 0.1293 - accuracy: 0.9539 - val_loss: 0.1198 - val_accuracy: 0.9545\n",
            "Epoch 22/100\n",
            "28/28 [==============================] - 4s 143ms/step - loss: 0.0997 - accuracy: 0.9615 - val_loss: 0.2554 - val_accuracy: 0.9264\n",
            "Epoch 23/100\n",
            "28/28 [==============================] - 4s 142ms/step - loss: 0.1195 - accuracy: 0.9516 - val_loss: 0.2275 - val_accuracy: 0.9242\n",
            "Epoch 24/100\n",
            "28/28 [==============================] - 4s 141ms/step - loss: 0.1212 - accuracy: 0.9468 - val_loss: 0.1064 - val_accuracy: 0.9632\n",
            "Epoch 25/100\n",
            "28/28 [==============================] - 4s 141ms/step - loss: 0.1217 - accuracy: 0.9504 - val_loss: 0.3230 - val_accuracy: 0.8961\n",
            "Epoch 26/100\n",
            "28/28 [==============================] - 4s 140ms/step - loss: 0.1251 - accuracy: 0.9526 - val_loss: 0.1709 - val_accuracy: 0.9351\n",
            "Epoch 27/100\n",
            "28/28 [==============================] - 4s 138ms/step - loss: 0.0797 - accuracy: 0.9739 - val_loss: 0.1201 - val_accuracy: 0.9567\n",
            "Epoch 28/100\n",
            "28/28 [==============================] - 4s 140ms/step - loss: 0.1097 - accuracy: 0.9637 - val_loss: 0.0954 - val_accuracy: 0.9589\n",
            "Epoch 29/100\n",
            "28/28 [==============================] - 4s 140ms/step - loss: 0.0995 - accuracy: 0.9576 - val_loss: 0.4323 - val_accuracy: 0.8636\n",
            "Epoch 30/100\n",
            "28/28 [==============================] - 4s 139ms/step - loss: 0.0882 - accuracy: 0.9666 - val_loss: 0.6059 - val_accuracy: 0.8247\n",
            "Epoch 31/100\n",
            "28/28 [==============================] - 4s 138ms/step - loss: 0.0715 - accuracy: 0.9804 - val_loss: 0.1711 - val_accuracy: 0.9437\n",
            "Epoch 32/100\n",
            "28/28 [==============================] - 4s 139ms/step - loss: 0.0963 - accuracy: 0.9609 - val_loss: 0.1783 - val_accuracy: 0.9481\n",
            "Epoch 33/100\n",
            "28/28 [==============================] - 4s 140ms/step - loss: 0.0751 - accuracy: 0.9754 - val_loss: 0.1636 - val_accuracy: 0.9459\n",
            "Epoch 34/100\n",
            "28/28 [==============================] - 4s 139ms/step - loss: 0.0759 - accuracy: 0.9749 - val_loss: 0.1987 - val_accuracy: 0.9372\n",
            "Epoch 35/100\n",
            "28/28 [==============================] - 4s 140ms/step - loss: 0.1002 - accuracy: 0.9618 - val_loss: 0.1044 - val_accuracy: 0.9610\n",
            "Epoch 36/100\n",
            "28/28 [==============================] - 4s 140ms/step - loss: 0.1109 - accuracy: 0.9612 - val_loss: 0.2900 - val_accuracy: 0.8961\n",
            "Epoch 37/100\n",
            "28/28 [==============================] - 4s 140ms/step - loss: 0.1495 - accuracy: 0.9472 - val_loss: 0.1994 - val_accuracy: 0.9437\n",
            "Epoch 38/100\n",
            "28/28 [==============================] - 4s 139ms/step - loss: 0.0786 - accuracy: 0.9693 - val_loss: 0.2444 - val_accuracy: 0.9459\n",
            "Epoch 39/100\n",
            "28/28 [==============================] - 4s 141ms/step - loss: 0.1061 - accuracy: 0.9640 - val_loss: 0.2391 - val_accuracy: 0.9502\n",
            "Epoch 40/100\n",
            "28/28 [==============================] - 4s 139ms/step - loss: 0.0906 - accuracy: 0.9643 - val_loss: 0.1477 - val_accuracy: 0.9524\n",
            "Epoch 41/100\n",
            "28/28 [==============================] - 4s 140ms/step - loss: 0.0956 - accuracy: 0.9630 - val_loss: 0.1287 - val_accuracy: 0.9567\n",
            "Epoch 42/100\n",
            "28/28 [==============================] - 4s 139ms/step - loss: 0.1154 - accuracy: 0.9605 - val_loss: 0.0786 - val_accuracy: 0.9697\n",
            "Epoch 43/100\n",
            "28/28 [==============================] - 4s 140ms/step - loss: 0.0647 - accuracy: 0.9788 - val_loss: 0.0839 - val_accuracy: 0.9740\n",
            "Epoch 44/100\n",
            "28/28 [==============================] - 4s 141ms/step - loss: 0.1067 - accuracy: 0.9639 - val_loss: 0.1197 - val_accuracy: 0.9545\n",
            "Epoch 45/100\n",
            "28/28 [==============================] - 4s 140ms/step - loss: 0.0886 - accuracy: 0.9653 - val_loss: 0.1225 - val_accuracy: 0.9481\n",
            "Epoch 46/100\n",
            "28/28 [==============================] - 4s 139ms/step - loss: 0.0906 - accuracy: 0.9594 - val_loss: 0.5076 - val_accuracy: 0.8918\n",
            "Epoch 47/100\n",
            "28/28 [==============================] - 4s 139ms/step - loss: 0.0720 - accuracy: 0.9778 - val_loss: 0.3577 - val_accuracy: 0.9113\n",
            "Epoch 48/100\n",
            "28/28 [==============================] - 4s 140ms/step - loss: 0.0725 - accuracy: 0.9728 - val_loss: 0.4017 - val_accuracy: 0.8874\n",
            "Epoch 49/100\n",
            "28/28 [==============================] - 4s 138ms/step - loss: 0.0748 - accuracy: 0.9724 - val_loss: 0.0870 - val_accuracy: 0.9675\n",
            "Epoch 50/100\n",
            "28/28 [==============================] - 4s 139ms/step - loss: 0.0868 - accuracy: 0.9670 - val_loss: 0.1157 - val_accuracy: 0.9524\n",
            "Epoch 51/100\n",
            "28/28 [==============================] - 4s 139ms/step - loss: 0.0612 - accuracy: 0.9763 - val_loss: 0.2634 - val_accuracy: 0.9177\n",
            "Epoch 52/100\n",
            "28/28 [==============================] - 4s 138ms/step - loss: 0.0673 - accuracy: 0.9754 - val_loss: 0.1226 - val_accuracy: 0.9589\n",
            "Epoch 53/100\n",
            "28/28 [==============================] - 4s 139ms/step - loss: 0.0633 - accuracy: 0.9745 - val_loss: 0.1073 - val_accuracy: 0.9719\n",
            "Epoch 54/100\n",
            "28/28 [==============================] - 4s 139ms/step - loss: 0.0578 - accuracy: 0.9755 - val_loss: 0.4595 - val_accuracy: 0.8550\n",
            "Epoch 55/100\n",
            "28/28 [==============================] - 4s 141ms/step - loss: 0.0529 - accuracy: 0.9818 - val_loss: 0.2630 - val_accuracy: 0.9372\n",
            "Epoch 56/100\n",
            "28/28 [==============================] - 4s 144ms/step - loss: 0.0659 - accuracy: 0.9729 - val_loss: 0.0802 - val_accuracy: 0.9784\n",
            "Epoch 57/100\n",
            "28/28 [==============================] - 4s 139ms/step - loss: 0.0572 - accuracy: 0.9788 - val_loss: 0.0826 - val_accuracy: 0.9697\n",
            "Epoch 58/100\n",
            "28/28 [==============================] - 4s 141ms/step - loss: 0.0846 - accuracy: 0.9639 - val_loss: 0.1504 - val_accuracy: 0.9589\n",
            "Epoch 59/100\n",
            "28/28 [==============================] - 4s 142ms/step - loss: 0.0895 - accuracy: 0.9673 - val_loss: 0.2588 - val_accuracy: 0.9156\n",
            "Epoch 60/100\n",
            "28/28 [==============================] - 4s 139ms/step - loss: 0.0730 - accuracy: 0.9735 - val_loss: 0.3068 - val_accuracy: 0.8918\n",
            "Epoch 61/100\n",
            "28/28 [==============================] - 4s 141ms/step - loss: 0.0664 - accuracy: 0.9724 - val_loss: 0.2252 - val_accuracy: 0.9221\n",
            "Epoch 62/100\n",
            "28/28 [==============================] - 4s 141ms/step - loss: 0.0801 - accuracy: 0.9675 - val_loss: 0.2032 - val_accuracy: 0.9351\n",
            "Epoch 63/100\n",
            "28/28 [==============================] - 4s 141ms/step - loss: 0.0700 - accuracy: 0.9683 - val_loss: 0.3073 - val_accuracy: 0.9091\n",
            "Epoch 64/100\n",
            "28/28 [==============================] - 4s 141ms/step - loss: 0.0750 - accuracy: 0.9733 - val_loss: 0.1901 - val_accuracy: 0.9372\n",
            "Epoch 65/100\n",
            "28/28 [==============================] - 4s 139ms/step - loss: 0.0855 - accuracy: 0.9746 - val_loss: 0.9578 - val_accuracy: 0.7814\n",
            "Epoch 66/100\n",
            "28/28 [==============================] - 4s 140ms/step - loss: 0.0673 - accuracy: 0.9768 - val_loss: 0.2054 - val_accuracy: 0.9199\n",
            "Epoch 67/100\n",
            "28/28 [==============================] - 4s 139ms/step - loss: 0.0614 - accuracy: 0.9779 - val_loss: 0.7145 - val_accuracy: 0.8355\n",
            "Epoch 68/100\n",
            "28/28 [==============================] - 4s 139ms/step - loss: 0.0717 - accuracy: 0.9712 - val_loss: 0.5166 - val_accuracy: 0.8528\n",
            "Epoch 69/100\n",
            "28/28 [==============================] - 4s 140ms/step - loss: 0.0921 - accuracy: 0.9656 - val_loss: 0.1288 - val_accuracy: 0.9502\n",
            "Epoch 70/100\n",
            "28/28 [==============================] - 4s 141ms/step - loss: 0.0725 - accuracy: 0.9782 - val_loss: 0.3701 - val_accuracy: 0.9048\n",
            "Epoch 71/100\n",
            "28/28 [==============================] - 4s 140ms/step - loss: 0.0543 - accuracy: 0.9831 - val_loss: 0.1149 - val_accuracy: 0.9654\n",
            "Epoch 72/100\n",
            "28/28 [==============================] - 4s 138ms/step - loss: 0.0653 - accuracy: 0.9717 - val_loss: 0.0827 - val_accuracy: 0.9784\n",
            "Epoch 73/100\n",
            "28/28 [==============================] - 4s 140ms/step - loss: 0.0610 - accuracy: 0.9762 - val_loss: 0.1906 - val_accuracy: 0.9416\n",
            "Epoch 74/100\n",
            "28/28 [==============================] - 4s 140ms/step - loss: 0.0587 - accuracy: 0.9787 - val_loss: 0.5637 - val_accuracy: 0.8485\n",
            "Epoch 75/100\n",
            "28/28 [==============================] - 4s 142ms/step - loss: 0.0683 - accuracy: 0.9724 - val_loss: 0.1327 - val_accuracy: 0.9567\n",
            "Epoch 76/100\n",
            "28/28 [==============================] - 4s 140ms/step - loss: 0.0508 - accuracy: 0.9837 - val_loss: 0.0919 - val_accuracy: 0.9697\n",
            "Epoch 77/100\n",
            "28/28 [==============================] - 4s 140ms/step - loss: 0.0441 - accuracy: 0.9868 - val_loss: 0.1735 - val_accuracy: 0.9481\n",
            "Epoch 78/100\n",
            "28/28 [==============================] - 4s 140ms/step - loss: 0.0468 - accuracy: 0.9837 - val_loss: 0.0687 - val_accuracy: 0.9762\n",
            "Epoch 79/100\n",
            "28/28 [==============================] - 4s 140ms/step - loss: 0.0512 - accuracy: 0.9812 - val_loss: 0.1019 - val_accuracy: 0.9675\n",
            "Epoch 80/100\n",
            "28/28 [==============================] - 4s 141ms/step - loss: 0.0587 - accuracy: 0.9756 - val_loss: 0.0853 - val_accuracy: 0.9762\n",
            "Epoch 81/100\n",
            "28/28 [==============================] - 4s 140ms/step - loss: 0.0327 - accuracy: 0.9898 - val_loss: 0.0711 - val_accuracy: 0.9719\n",
            "Epoch 82/100\n",
            "28/28 [==============================] - 4s 140ms/step - loss: 0.0425 - accuracy: 0.9831 - val_loss: 0.1938 - val_accuracy: 0.9437\n",
            "Epoch 83/100\n",
            "28/28 [==============================] - 4s 140ms/step - loss: 0.0446 - accuracy: 0.9814 - val_loss: 0.1170 - val_accuracy: 0.9610\n",
            "Epoch 84/100\n",
            "28/28 [==============================] - 4s 140ms/step - loss: 0.0608 - accuracy: 0.9779 - val_loss: 0.1444 - val_accuracy: 0.9437\n",
            "Epoch 85/100\n",
            "28/28 [==============================] - 4s 140ms/step - loss: 0.0494 - accuracy: 0.9836 - val_loss: 0.1997 - val_accuracy: 0.9394\n",
            "Epoch 86/100\n",
            "28/28 [==============================] - 4s 144ms/step - loss: 0.0445 - accuracy: 0.9871 - val_loss: 0.2027 - val_accuracy: 0.9286\n",
            "Epoch 87/100\n",
            "28/28 [==============================] - 4s 141ms/step - loss: 0.0536 - accuracy: 0.9846 - val_loss: 0.0480 - val_accuracy: 0.9848\n",
            "Epoch 88/100\n",
            "28/28 [==============================] - 4s 140ms/step - loss: 0.0687 - accuracy: 0.9733 - val_loss: 0.1314 - val_accuracy: 0.9545\n",
            "Epoch 89/100\n",
            "28/28 [==============================] - 4s 144ms/step - loss: 0.0594 - accuracy: 0.9757 - val_loss: 0.1656 - val_accuracy: 0.9416\n",
            "Epoch 90/100\n",
            "28/28 [==============================] - 4s 138ms/step - loss: 0.0475 - accuracy: 0.9858 - val_loss: 0.1239 - val_accuracy: 0.9610\n",
            "Epoch 91/100\n",
            "28/28 [==============================] - 4s 138ms/step - loss: 0.0485 - accuracy: 0.9807 - val_loss: 0.1159 - val_accuracy: 0.9589\n",
            "Epoch 92/100\n",
            "28/28 [==============================] - 4s 141ms/step - loss: 0.0574 - accuracy: 0.9747 - val_loss: 0.3157 - val_accuracy: 0.9221\n",
            "Epoch 93/100\n",
            "28/28 [==============================] - 4s 140ms/step - loss: 0.0485 - accuracy: 0.9772 - val_loss: 0.3049 - val_accuracy: 0.9221\n",
            "Epoch 94/100\n",
            "28/28 [==============================] - 4s 141ms/step - loss: 0.0709 - accuracy: 0.9757 - val_loss: 0.1087 - val_accuracy: 0.9697\n",
            "Epoch 95/100\n",
            "28/28 [==============================] - 4s 138ms/step - loss: 0.0557 - accuracy: 0.9801 - val_loss: 0.6474 - val_accuracy: 0.8203\n",
            "Epoch 96/100\n",
            "28/28 [==============================] - 4s 140ms/step - loss: 0.0278 - accuracy: 0.9897 - val_loss: 0.0580 - val_accuracy: 0.9762\n",
            "Epoch 97/100\n",
            "28/28 [==============================] - 4s 139ms/step - loss: 0.0437 - accuracy: 0.9819 - val_loss: 0.0724 - val_accuracy: 0.9740\n",
            "Epoch 98/100\n",
            "28/28 [==============================] - 4s 140ms/step - loss: 0.0268 - accuracy: 0.9885 - val_loss: 0.0950 - val_accuracy: 0.9740\n",
            "Epoch 99/100\n",
            "28/28 [==============================] - 4s 141ms/step - loss: 0.0551 - accuracy: 0.9757 - val_loss: 0.2995 - val_accuracy: 0.9026\n",
            "Epoch 100/100\n",
            "28/28 [==============================] - 4s 142ms/step - loss: 0.0489 - accuracy: 0.9840 - val_loss: 0.1832 - val_accuracy: 0.9372\n"
          ],
          "name": "stdout"
        }
      ]
    },
    {
      "cell_type": "code",
      "metadata": {
        "id": "i2-OLve2ln22"
      },
      "source": [
        "model.save('gender_detection.h5')"
      ],
      "execution_count": 30,
      "outputs": []
    },
    {
      "cell_type": "code",
      "metadata": {
        "colab": {
          "base_uri": "https://localhost:8080/",
          "height": 299
        },
        "id": "TQUsOrZxo9V6",
        "outputId": "5afc0249-65e8-4cea-c717-df41a51a531a"
      },
      "source": [
        "# plot training/validation loss/accuracy\r\n",
        "plt.style.use(\"ggplot\")\r\n",
        "plt.figure()\r\n",
        "N = epochs\r\n",
        "plt.plot(np.arange(0,N), H.history[\"loss\"], label=\"train_loss\")\r\n",
        "plt.plot(np.arange(0,N), H.history[\"val_loss\"], label=\"val_loss\")\r\n",
        "plt.plot(np.arange(0,N), H.history[\"accuracy\"], label=\"train_acc\")\r\n",
        "plt.plot(np.arange(0,N), H.history[\"val_accuracy\"], label=\"val_acc\")\r\n",
        "\r\n",
        "plt.title(\"Training Loss and Accuracy\")\r\n",
        "plt.xlabel(\"Epoch #\")\r\n",
        "plt.ylabel(\"Loss/Accuracy\")\r\n",
        "plt.legend(loc=\"upper right\")\r\n",
        "\r\n",
        "# save plot to disk\r\n",
        "plt.savefig('plot.png')"
      ],
      "execution_count": 26,
      "outputs": [
        {
          "output_type": "display_data",
          "data": {
            "image/png": "[encoded data removed]",
            "text/plain": [
              "<Figure size 432x288 with 1 Axes>"
            ]
          },
          "metadata": {
            "tags": []
          }
        }
      ]
    }
  ]
}